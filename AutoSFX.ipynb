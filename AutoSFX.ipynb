{
 "cells": [
  {
   "attachments": {},
   "cell_type": "markdown",
   "metadata": {},
   "source": [
    "# AutoSFX"
   ]
  },
  {
   "cell_type": "code",
   "execution_count": 2,
   "metadata": {},
   "outputs": [],
   "source": [
    "import importlib"
   ]
  },
  {
   "cell_type": "code",
   "execution_count": 6,
   "metadata": {},
   "outputs": [],
   "source": [
    "from scene_understanding import *"
   ]
  },
  {
   "cell_type": "code",
   "execution_count": 9,
   "metadata": {},
   "outputs": [
    {
     "name": "stdout",
     "output_type": "stream",
     "text": [
      "--------------\n",
      "/home/s5614279/Master Project/ram_plus_swin_large_14m.pth\n",
      "--------------\n",
      "Position interpolate visual_encoder.layers.0.blocks.0.attn.relative_position_bias_table from 23x23 to 13x13\n",
      "Position interpolate visual_encoder.layers.0.blocks.1.attn.relative_position_bias_table from 23x23 to 13x13\n",
      "Position interpolate visual_encoder.layers.1.blocks.0.attn.relative_position_bias_table from 23x23 to 13x13\n",
      "Position interpolate visual_encoder.layers.1.blocks.1.attn.relative_position_bias_table from 23x23 to 13x13\n",
      "Position interpolate visual_encoder.layers.2.blocks.0.attn.relative_position_bias_table from 23x23 to 13x13\n",
      "Position interpolate visual_encoder.layers.2.blocks.1.attn.relative_position_bias_table from 23x23 to 13x13\n",
      "Position interpolate visual_encoder.layers.2.blocks.2.attn.relative_position_bias_table from 23x23 to 13x13\n",
      "Position interpolate visual_encoder.layers.2.blocks.3.attn.relative_position_bias_table from 23x23 to 13x13\n",
      "Position interpolate visual_encoder.layers.2.blocks.4.attn.relative_position_bias_table from 23x23 to 13x13\n",
      "Position interpolate visual_encoder.layers.2.blocks.5.attn.relative_position_bias_table from 23x23 to 13x13\n",
      "Position interpolate visual_encoder.layers.2.blocks.6.attn.relative_position_bias_table from 23x23 to 13x13\n",
      "Position interpolate visual_encoder.layers.2.blocks.7.attn.relative_position_bias_table from 23x23 to 13x13\n",
      "Position interpolate visual_encoder.layers.2.blocks.8.attn.relative_position_bias_table from 23x23 to 13x13\n",
      "Position interpolate visual_encoder.layers.2.blocks.9.attn.relative_position_bias_table from 23x23 to 13x13\n",
      "Position interpolate visual_encoder.layers.2.blocks.10.attn.relative_position_bias_table from 23x23 to 13x13\n",
      "Position interpolate visual_encoder.layers.2.blocks.11.attn.relative_position_bias_table from 23x23 to 13x13\n",
      "Position interpolate visual_encoder.layers.2.blocks.12.attn.relative_position_bias_table from 23x23 to 13x13\n",
      "Position interpolate visual_encoder.layers.2.blocks.13.attn.relative_position_bias_table from 23x23 to 13x13\n",
      "Position interpolate visual_encoder.layers.2.blocks.14.attn.relative_position_bias_table from 23x23 to 13x13\n",
      "Position interpolate visual_encoder.layers.2.blocks.15.attn.relative_position_bias_table from 23x23 to 13x13\n",
      "Position interpolate visual_encoder.layers.2.blocks.16.attn.relative_position_bias_table from 23x23 to 13x13\n",
      "Position interpolate visual_encoder.layers.2.blocks.17.attn.relative_position_bias_table from 23x23 to 13x13\n",
      "Position interpolate visual_encoder.layers.3.blocks.0.attn.relative_position_bias_table from 23x23 to 13x13\n",
      "Position interpolate visual_encoder.layers.3.blocks.1.attn.relative_position_bias_table from 23x23 to 13x13\n",
      "load checkpoint from /home/s5614279/Master Project/ram_plus_swin_large_14m.pth\n",
      "vit: swin_l\n"
     ]
    },
    {
     "ename": "NameError",
     "evalue": "name 'result' is not defined",
     "output_type": "error",
     "traceback": [
      "\u001b[0;31m---------------------------------------------------------------------------\u001b[0m",
      "\u001b[0;31mNameError\u001b[0m                                 Traceback (most recent call last)",
      "\u001b[1;32m/home/s5614279/Master Project/AutoSFX/AutoSFX.ipynb Cell 4\u001b[0m in \u001b[0;36m<cell line: 15>\u001b[0;34m()\u001b[0m\n\u001b[1;32m     <a href='vscode-notebook-cell:/home/s5614279/Master%20Project/AutoSFX/AutoSFX.ipynb#X10sZmlsZQ%3D%3D?line=11'>12</a>\u001b[0m     result \u001b[39m=\u001b[39m scene_understanding\u001b[39m.\u001b[39manalyze_image(pil_image)\n\u001b[1;32m     <a href='vscode-notebook-cell:/home/s5614279/Master%20Project/AutoSFX/AutoSFX.ipynb#X10sZmlsZQ%3D%3D?line=12'>13</a>\u001b[0m     \u001b[39mprint\u001b[39m(result)\n\u001b[0;32m---> <a href='vscode-notebook-cell:/home/s5614279/Master%20Project/AutoSFX/AutoSFX.ipynb#X10sZmlsZQ%3D%3D?line=14'>15</a>\u001b[0m chatgpt_prompt \u001b[39m=\u001b[39m \u001b[39m\"\u001b[39m\u001b[39mWhat do I hear in the following video description, give me a list: \u001b[39m\u001b[39m\"\u001b[39m \u001b[39m+\u001b[39m \u001b[39mf\u001b[39m\u001b[39m\"\u001b[39m\u001b[39mI see \u001b[39m\u001b[39m{\u001b[39;00mresult[\u001b[39m'\u001b[39m\u001b[39mobjects\u001b[39m\u001b[39m'\u001b[39m]\u001b[39m}\u001b[39;00m\u001b[39m. I am at \u001b[39m\u001b[39m{\u001b[39;00mresult[\u001b[39m'\u001b[39m\u001b[39mlocation\u001b[39m\u001b[39m'\u001b[39m]\u001b[39m}\u001b[39;00m\u001b[39m. The time is \u001b[39m\u001b[39m{\u001b[39;00mresult[\u001b[39m'\u001b[39m\u001b[39mtime\u001b[39m\u001b[39m'\u001b[39m]\u001b[39m}\u001b[39;00m\u001b[39m. The weather is \u001b[39m\u001b[39m{\u001b[39;00mresult[\u001b[39m'\u001b[39m\u001b[39mweather\u001b[39m\u001b[39m'\u001b[39m]\u001b[39m}\u001b[39;00m\u001b[39m. Overall, I see \u001b[39m\u001b[39m{\u001b[39;00mresult[\u001b[39m'\u001b[39m\u001b[39mcaption\u001b[39m\u001b[39m'\u001b[39m]\u001b[39m}\u001b[39;00m\u001b[39m.\u001b[39m\u001b[39m\"\u001b[39m\n\u001b[1;32m     <a href='vscode-notebook-cell:/home/s5614279/Master%20Project/AutoSFX/AutoSFX.ipynb#X10sZmlsZQ%3D%3D?line=15'>16</a>\u001b[0m chatgpt_response \u001b[39m=\u001b[39m ask_chatgpt(chatgpt_prompt)\n\u001b[1;32m     <a href='vscode-notebook-cell:/home/s5614279/Master%20Project/AutoSFX/AutoSFX.ipynb#X10sZmlsZQ%3D%3D?line=16'>17</a>\u001b[0m \u001b[39mprint\u001b[39m(chatgpt_prompt)\n",
      "\u001b[0;31mNameError\u001b[0m: name 'result' is not defined"
     ]
    }
   ],
   "source": [
    "import scene_understanding\n",
    "importlib.reload(scene_understanding)\n",
    "from scene_understanding import *\n",
    "\n",
    "# create SceneUnderstanding object\n",
    "scene_understanding = SceneUnderstanding()\n",
    "\n",
    "resized_frame = scene_understanding.process_video(\"horse.mp4\")\n",
    "frame_tags = []\n",
    "frame_context = []\n",
    "\n",
    "for frame in resized_frame:\n",
    "    pil_image = Image.fromarray(cv2.cvtColor(frame, cv2.COLOR_BGR2RGB))\n",
    "    tags, context = scene_understanding.analyze_image(pil_image)\n",
    "    frame_tags.append(tags)\n",
    "    frame_context.append(context)\n",
    "\n",
    "chatgpt_prompt = \"What do I hear in the following video description, give me a list: \" + \n",
    "chatgpt_response = ask_chatgpt(chatgpt_prompt)\n",
    "print(chatgpt_prompt)"
   ]
  }
 ],
 "metadata": {
  "kernelspec": {
   "display_name": "base",
   "language": "python",
   "name": "python3"
  },
  "language_info": {
   "codemirror_mode": {
    "name": "ipython",
    "version": 3
   },
   "file_extension": ".py",
   "mimetype": "text/x-python",
   "name": "python",
   "nbconvert_exporter": "python",
   "pygments_lexer": "ipython3",
   "version": "3.9.12"
  },
  "orig_nbformat": 4
 },
 "nbformat": 4,
 "nbformat_minor": 2
}
