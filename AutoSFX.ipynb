{
 "cells": [
  {
   "attachments": {},
   "cell_type": "markdown",
   "metadata": {},
   "source": [
    "# AutoSFX"
   ]
  },
  {
   "cell_type": "code",
   "execution_count": 1,
   "metadata": {},
   "outputs": [],
   "source": [
    "import importlib"
   ]
  },
  {
   "cell_type": "code",
   "execution_count": 2,
   "metadata": {},
   "outputs": [
    {
     "name": "stderr",
     "output_type": "stream",
     "text": [
      "2024-07-08 11:32:54.848622: I tensorflow/core/util/port.cc:113] oneDNN custom operations are on. You may see slightly different numerical results due to floating-point round-off errors from different computation orders. To turn them off, set the environment variable `TF_ENABLE_ONEDNN_OPTS=0`.\n",
      "2024-07-08 11:32:54.869913: I tensorflow/core/platform/cpu_feature_guard.cc:210] This TensorFlow binary is optimized to use available CPU instructions in performance-critical operations.\n",
      "To enable the following instructions: AVX2 AVX_VNNI FMA, in other operations, rebuild TensorFlow with the appropriate compiler flags.\n",
      "2024-07-08 11:32:59.497556: W tensorflow/compiler/tf2tensorrt/utils/py_utils.cc:38] TF-TRT Warning: Could not find TensorRT\n"
     ]
    },
    {
     "name": "stdout",
     "output_type": "stream",
     "text": [
      "--------------\n",
      "/home/s5614279/Master Project/ram_plus_swin_large_14m.pth\n",
      "--------------\n",
      "Position interpolate visual_encoder.layers.0.blocks.0.attn.relative_position_bias_table from 23x23 to 13x13\n",
      "Position interpolate visual_encoder.layers.0.blocks.1.attn.relative_position_bias_table from 23x23 to 13x13\n",
      "Position interpolate visual_encoder.layers.1.blocks.0.attn.relative_position_bias_table from 23x23 to 13x13\n",
      "Position interpolate visual_encoder.layers.1.blocks.1.attn.relative_position_bias_table from 23x23 to 13x13\n",
      "Position interpolate visual_encoder.layers.2.blocks.0.attn.relative_position_bias_table from 23x23 to 13x13\n",
      "Position interpolate visual_encoder.layers.2.blocks.1.attn.relative_position_bias_table from 23x23 to 13x13\n",
      "Position interpolate visual_encoder.layers.2.blocks.2.attn.relative_position_bias_table from 23x23 to 13x13\n",
      "Position interpolate visual_encoder.layers.2.blocks.3.attn.relative_position_bias_table from 23x23 to 13x13\n",
      "Position interpolate visual_encoder.layers.2.blocks.4.attn.relative_position_bias_table from 23x23 to 13x13\n",
      "Position interpolate visual_encoder.layers.2.blocks.5.attn.relative_position_bias_table from 23x23 to 13x13\n",
      "Position interpolate visual_encoder.layers.2.blocks.6.attn.relative_position_bias_table from 23x23 to 13x13\n",
      "Position interpolate visual_encoder.layers.2.blocks.7.attn.relative_position_bias_table from 23x23 to 13x13\n",
      "Position interpolate visual_encoder.layers.2.blocks.8.attn.relative_position_bias_table from 23x23 to 13x13\n",
      "Position interpolate visual_encoder.layers.2.blocks.9.attn.relative_position_bias_table from 23x23 to 13x13\n",
      "Position interpolate visual_encoder.layers.2.blocks.10.attn.relative_position_bias_table from 23x23 to 13x13\n",
      "Position interpolate visual_encoder.layers.2.blocks.11.attn.relative_position_bias_table from 23x23 to 13x13\n",
      "Position interpolate visual_encoder.layers.2.blocks.12.attn.relative_position_bias_table from 23x23 to 13x13\n",
      "Position interpolate visual_encoder.layers.2.blocks.13.attn.relative_position_bias_table from 23x23 to 13x13\n",
      "Position interpolate visual_encoder.layers.2.blocks.14.attn.relative_position_bias_table from 23x23 to 13x13\n",
      "Position interpolate visual_encoder.layers.2.blocks.15.attn.relative_position_bias_table from 23x23 to 13x13\n",
      "Position interpolate visual_encoder.layers.2.blocks.16.attn.relative_position_bias_table from 23x23 to 13x13\n",
      "Position interpolate visual_encoder.layers.2.blocks.17.attn.relative_position_bias_table from 23x23 to 13x13\n",
      "Position interpolate visual_encoder.layers.3.blocks.0.attn.relative_position_bias_table from 23x23 to 13x13\n",
      "Position interpolate visual_encoder.layers.3.blocks.1.attn.relative_position_bias_table from 23x23 to 13x13\n",
      "load checkpoint from /home/s5614279/Master Project/ram_plus_swin_large_14m.pth\n",
      "vit: swin_l\n",
      "<class 'numpy.ndarray'>\n",
      "<class 'numpy.ndarray'>\n"
     ]
    },
    {
     "ename": "TypeError",
     "evalue": "pic should be PIL Image or ndarray. Got <class 'torch.Tensor'>",
     "output_type": "error",
     "traceback": [
      "\u001b[0;31m---------------------------------------------------------------------------\u001b[0m",
      "\u001b[0;31mTypeError\u001b[0m                                 Traceback (most recent call last)",
      "\u001b[1;32m/home/s5614279/Master Project/AutoSFX/AutoSFX.ipynb Cell 3\u001b[0m in \u001b[0;36m<cell line: 12>\u001b[0;34m()\u001b[0m\n\u001b[1;32m     <a href='vscode-notebook-cell:/home/s5614279/Master%20Project/AutoSFX/AutoSFX.ipynb#W3sZmlsZQ%3D%3D?line=13'>14</a>\u001b[0m \u001b[39m#frame_tensor = torch.from_numpy(cv2.cvtColor(frame, cv2.COLOR_BGR2RGB)).permute(2, 0, 1).float().div(255)\u001b[39;00m\n\u001b[1;32m     <a href='vscode-notebook-cell:/home/s5614279/Master%20Project/AutoSFX/AutoSFX.ipynb#W3sZmlsZQ%3D%3D?line=14'>15</a>\u001b[0m \u001b[39m#pil_image = Image.fromarray(cv2.cvtColor(frame, cv2.COLOR_BGR2RGB))\u001b[39;00m\n\u001b[1;32m     <a href='vscode-notebook-cell:/home/s5614279/Master%20Project/AutoSFX/AutoSFX.ipynb#W3sZmlsZQ%3D%3D?line=15'>16</a>\u001b[0m \u001b[39mprint\u001b[39m(\u001b[39mtype\u001b[39m(frame))\n\u001b[0;32m---> <a href='vscode-notebook-cell:/home/s5614279/Master%20Project/AutoSFX/AutoSFX.ipynb#W3sZmlsZQ%3D%3D?line=16'>17</a>\u001b[0m tags, context \u001b[39m=\u001b[39m scene_understanding\u001b[39m.\u001b[39;49manalyze_image(frame)\n\u001b[1;32m     <a href='vscode-notebook-cell:/home/s5614279/Master%20Project/AutoSFX/AutoSFX.ipynb#W3sZmlsZQ%3D%3D?line=17'>18</a>\u001b[0m frame_tags\u001b[39m.\u001b[39mappend(tags)\n\u001b[1;32m     <a href='vscode-notebook-cell:/home/s5614279/Master%20Project/AutoSFX/AutoSFX.ipynb#W3sZmlsZQ%3D%3D?line=18'>19</a>\u001b[0m frame_context\u001b[39m.\u001b[39mappend(context)\n",
      "File \u001b[0;32m~/Master Project/AutoSFX/scene_understanding.py:122\u001b[0m, in \u001b[0;36mSceneUnderstanding.analyze_image\u001b[0;34m(self, image)\u001b[0m\n\u001b[1;32m    120\u001b[0m \u001b[39mdef\u001b[39;00m \u001b[39manalyze_image\u001b[39m(\u001b[39mself\u001b[39m, image):\n\u001b[1;32m    121\u001b[0m     image_tensor \u001b[39m=\u001b[39m \u001b[39mself\u001b[39m\u001b[39m.\u001b[39mpreprocess_image(image)\n\u001b[0;32m--> 122\u001b[0m     scene_type \u001b[39m=\u001b[39m \u001b[39mself\u001b[39;49m\u001b[39m.\u001b[39;49mclassify_scene(image_tensor)\n\u001b[1;32m    123\u001b[0m     location \u001b[39m=\u001b[39m \u001b[39mself\u001b[39m\u001b[39m.\u001b[39mclassify_place(imagimage_tensore)\n\u001b[1;32m    125\u001b[0m     \u001b[39m#if scene_type == \"outdoors\":\u001b[39;00m\n",
      "File \u001b[0;32m~/Master Project/AutoSFX/scene_understanding.py:78\u001b[0m, in \u001b[0;36mSceneUnderstanding.classify_scene\u001b[0;34m(self, image)\u001b[0m\n\u001b[1;32m     77\u001b[0m \u001b[39mdef\u001b[39;00m \u001b[39mclassify_scene\u001b[39m(\u001b[39mself\u001b[39m, image):\n\u001b[0;32m---> 78\u001b[0m     image \u001b[39m=\u001b[39m \u001b[39mself\u001b[39;49m\u001b[39m.\u001b[39;49mclip_preprocess(image)\u001b[39m.\u001b[39munsqueeze(\u001b[39m0\u001b[39m)\u001b[39m.\u001b[39mto(\u001b[39mself\u001b[39m\u001b[39m.\u001b[39mdevice)\n\u001b[1;32m     79\u001b[0m     \u001b[39mwith\u001b[39;00m torch\u001b[39m.\u001b[39mno_grad():\n\u001b[1;32m     80\u001b[0m         logits_per_image, _ \u001b[39m=\u001b[39m \u001b[39mself\u001b[39m\u001b[39m.\u001b[39mclip_model(image, \u001b[39mself\u001b[39m\u001b[39m.\u001b[39mclip_preprocess([\u001b[39m\"\u001b[39m\u001b[39mindoors\u001b[39m\u001b[39m\"\u001b[39m, \u001b[39m\"\u001b[39m\u001b[39moutdoors\u001b[39m\u001b[39m\"\u001b[39m]))\n",
      "File \u001b[0;32m~/.pyenv/versions/anaconda3-2022.05/lib/python3.9/site-packages/torchvision/transforms/transforms.py:95\u001b[0m, in \u001b[0;36mCompose.__call__\u001b[0;34m(self, img)\u001b[0m\n\u001b[1;32m     93\u001b[0m \u001b[39mdef\u001b[39;00m \u001b[39m__call__\u001b[39m(\u001b[39mself\u001b[39m, img):\n\u001b[1;32m     94\u001b[0m     \u001b[39mfor\u001b[39;00m t \u001b[39min\u001b[39;00m \u001b[39mself\u001b[39m\u001b[39m.\u001b[39mtransforms:\n\u001b[0;32m---> 95\u001b[0m         img \u001b[39m=\u001b[39m t(img)\n\u001b[1;32m     96\u001b[0m     \u001b[39mreturn\u001b[39;00m img\n",
      "File \u001b[0;32m~/.pyenv/versions/anaconda3-2022.05/lib/python3.9/site-packages/torchvision/transforms/transforms.py:137\u001b[0m, in \u001b[0;36mToTensor.__call__\u001b[0;34m(self, pic)\u001b[0m\n\u001b[1;32m    129\u001b[0m \u001b[39mdef\u001b[39;00m \u001b[39m__call__\u001b[39m(\u001b[39mself\u001b[39m, pic):\n\u001b[1;32m    130\u001b[0m \u001b[39m    \u001b[39m\u001b[39m\"\"\"\u001b[39;00m\n\u001b[1;32m    131\u001b[0m \u001b[39m    Args:\u001b[39;00m\n\u001b[1;32m    132\u001b[0m \u001b[39m        pic (PIL Image or numpy.ndarray): Image to be converted to tensor.\u001b[39;00m\n\u001b[0;32m   (...)\u001b[0m\n\u001b[1;32m    135\u001b[0m \u001b[39m        Tensor: Converted image.\u001b[39;00m\n\u001b[1;32m    136\u001b[0m \u001b[39m    \"\"\"\u001b[39;00m\n\u001b[0;32m--> 137\u001b[0m     \u001b[39mreturn\u001b[39;00m F\u001b[39m.\u001b[39;49mto_tensor(pic)\n",
      "File \u001b[0;32m~/.pyenv/versions/anaconda3-2022.05/lib/python3.9/site-packages/torchvision/transforms/functional.py:141\u001b[0m, in \u001b[0;36mto_tensor\u001b[0;34m(pic)\u001b[0m\n\u001b[1;32m    139\u001b[0m     _log_api_usage_once(to_tensor)\n\u001b[1;32m    140\u001b[0m \u001b[39mif\u001b[39;00m \u001b[39mnot\u001b[39;00m (F_pil\u001b[39m.\u001b[39m_is_pil_image(pic) \u001b[39mor\u001b[39;00m _is_numpy(pic)):\n\u001b[0;32m--> 141\u001b[0m     \u001b[39mraise\u001b[39;00m \u001b[39mTypeError\u001b[39;00m(\u001b[39mf\u001b[39m\u001b[39m\"\u001b[39m\u001b[39mpic should be PIL Image or ndarray. Got \u001b[39m\u001b[39m{\u001b[39;00m\u001b[39mtype\u001b[39m(pic)\u001b[39m}\u001b[39;00m\u001b[39m\"\u001b[39m)\n\u001b[1;32m    143\u001b[0m \u001b[39mif\u001b[39;00m _is_numpy(pic) \u001b[39mand\u001b[39;00m \u001b[39mnot\u001b[39;00m _is_numpy_image(pic):\n\u001b[1;32m    144\u001b[0m     \u001b[39mraise\u001b[39;00m \u001b[39mValueError\u001b[39;00m(\u001b[39mf\u001b[39m\u001b[39m\"\u001b[39m\u001b[39mpic should be 2/3 dimensional. Got \u001b[39m\u001b[39m{\u001b[39;00mpic\u001b[39m.\u001b[39mndim\u001b[39m}\u001b[39;00m\u001b[39m dimensions.\u001b[39m\u001b[39m\"\u001b[39m)\n",
      "\u001b[0;31mTypeError\u001b[0m: pic should be PIL Image or ndarray. Got <class 'torch.Tensor'>"
     ]
    }
   ],
   "source": [
    "import scene_understanding\n",
    "importlib.reload(scene_understanding)\n",
    "from scene_understanding import *\n",
    "\n",
    "# create SceneUnderstanding object\n",
    "scene_understanding = SceneUnderstanding()\n",
    "\n",
    "resized_frame = scene_understanding.process_video(\"/home/s5614279/Master Project/horse.mp4\")\n",
    "frame_tags = []\n",
    "frame_context = []\n",
    "\n",
    "for frame in resized_frame:\n",
    "    print(type(frame))\n",
    "    # frame_tensor = torch.from_numpy(cv2.cvtColor(frame, cv2.COLOR_BGR2RGB)).permute(2, 0, 1).float().div(255)\n",
    "    pil_image = Image.fromarray(cv2.cvtColor(frame, cv2.COLOR_BGR2RGB))\n",
    "    tags, context = scene_understanding.analyze_image(pil_image)\n",
    "    frame_tags.append(tags)\n",
    "    frame_context.append(context)\n",
    "\n",
    "\n",
    "\n",
    "#chatgpt_prompt = \"What do I hear in the following video description, give me a list: \" + \n",
    "#chatgpt_response = ask_chatgpt(chatgpt_prompt)\n",
    "#print(chatgpt_prompt)"
   ]
  },
  {
   "cell_type": "code",
   "execution_count": 12,
   "metadata": {},
   "outputs": [
    {
     "name": "stdout",
     "output_type": "stream",
     "text": [
      "[]\n"
     ]
    }
   ],
   "source": [
    "print(frame_context)"
   ]
  }
 ],
 "metadata": {
  "kernelspec": {
   "display_name": "base",
   "language": "python",
   "name": "python3"
  },
  "language_info": {
   "codemirror_mode": {
    "name": "ipython",
    "version": 3
   },
   "file_extension": ".py",
   "mimetype": "text/x-python",
   "name": "python",
   "nbconvert_exporter": "python",
   "pygments_lexer": "ipython3",
   "version": "3.9.12"
  },
  "orig_nbformat": 4
 },
 "nbformat": 4,
 "nbformat_minor": 2
}
