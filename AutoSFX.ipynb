{
 "cells": [
  {
   "attachments": {},
   "cell_type": "markdown",
   "metadata": {},
   "source": [
    "# AutoSFX"
   ]
  },
  {
   "cell_type": "code",
   "execution_count": 1,
   "metadata": {},
   "outputs": [
    {
     "name": "stdout",
     "output_type": "stream",
     "text": [
      "1.26.4\n"
     ]
    }
   ],
   "source": [
    "from scene_understanding import *\n",
    "\n",
    "# create SceneUnderstanding object\n",
    "scene_understanding = SceneUnderstanding()\n",
    "\n",
    "resized_frame = scene_understanding.process_video(\"horse.mp4\")\n",
    "\n",
    "for frame in resized_frame:\n",
    "    pil_image = Image.fromarray(cv2.cvtColor(frame, cv2.COLOR_BGR2RGB))\n",
    "    result = scene_understanding.analyze_image(pil_image)\n",
    "    print(result)\n",
    "\n",
    "chatgpt_prompt = \"What do I hear in the following video description, give me a list: \" + f\"I see {result['objects']}. I am at {result['location']}. The time is {result['time']}. The weather is {result['weather']}. Overall, I see {result['caption']}.\"\n",
    "chatgpt_response = ask_chatgpt(chatgpt_prompt)\n",
    "print(chatgpt_prompt)"
   ]
  }
 ],
 "metadata": {
  "kernelspec": {
   "display_name": "base",
   "language": "python",
   "name": "python3"
  },
  "language_info": {
   "codemirror_mode": {
    "name": "ipython",
    "version": 3
   },
   "file_extension": ".py",
   "mimetype": "text/x-python",
   "name": "python",
   "nbconvert_exporter": "python",
   "pygments_lexer": "ipython3",
   "version": "3.9.12"
  },
  "orig_nbformat": 4
 },
 "nbformat": 4,
 "nbformat_minor": 2
}
