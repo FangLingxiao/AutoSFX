{
 "cells": [
  {
   "attachments": {},
   "cell_type": "markdown",
   "metadata": {},
   "source": [
    "# AutoSFX"
   ]
  },
  {
   "cell_type": "code",
   "execution_count": 5,
   "metadata": {},
   "outputs": [],
   "source": [
    "import importlib\n",
    "import scene_understanding\n",
    "from PIL import Image\n",
    "from openai import OpenAI"
   ]
  },
  {
   "attachments": {},
   "cell_type": "markdown",
   "metadata": {},
   "source": [
    "## Classify"
   ]
  },
  {
   "cell_type": "code",
   "execution_count": null,
   "metadata": {},
   "outputs": [],
   "source": [
    "importlib.reload(scene_understanding)\n",
    "from scene_understanding import *"
   ]
  },
  {
   "cell_type": "code",
   "execution_count": 16,
   "metadata": {},
   "outputs": [
    {
     "name": "stderr",
     "output_type": "stream",
     "text": [
      "/home/s5614279/.pyenv/versions/anaconda3-2022.05/lib/python3.9/site-packages/transformers/generation/utils.py:1249: UserWarning: Using the model-agnostic default `max_length` (=20) to control the generation length. We recommend setting `max_new_tokens` to control the maximum length of the generation.\n",
      "  warnings.warn(\n"
     ]
    }
   ],
   "source": [
    "\n",
    "\n",
    "# create SceneUnderstanding object\n",
    "scene_understanding = SceneUnderstanding()\n",
    "\n",
    "resized_frame = scene_understanding.process_video(\"/home/s5614279/Master Project/running.mp4\")\n",
    "frame_tags = []\n",
    "frame_context = []\n",
    "\n",
    "#output_dir = 'output_frames'\n",
    "#os.makedirs(output_dir, exist_ok=True)\n",
    "\n",
    "#for i, frame in enumerate(resized_frame[::15]):\n",
    "for i, frame in enumerate(resized_frame[::5]):\n",
    "    pil_image = Image.fromarray(cv2.cvtColor(frame, cv2.COLOR_BGR2RGB))\n",
    "    tags, context = scene_understanding.analyze_image(pil_image)\n",
    "    frame_tags.append(tags)\n",
    "    frame_context.append(context)\n",
    "    #image_save_path = os.path.join(output_dir, f'frame_{i:04d}.jpg')\n",
    "    #pil_image.save(image_save_path)\n"
   ]
  },
  {
   "cell_type": "code",
   "execution_count": 20,
   "metadata": {},
   "outputs": [
    {
     "name": "stdout",
     "output_type": "stream",
     "text": [
      "{'objects': ['Rain', 'Door knock', 'Breathing', 'Footsteps', 'Wind'], 'values': [0.62939453125, 0.05853271484375, 0.056732177734375, 0.05413818359375, 0.03607177734375], 'ambience': 'outdoors', 'location': 'parking_lot', 'time': 'morning', 'weather': 'rainy', 'caption': 'a black and white photo of a man in a suit'}\n"
     ]
    }
   ],
   "source": [
    "print(frame_tags[10])"
   ]
  },
  {
   "cell_type": "code",
   "execution_count": null,
   "metadata": {},
   "outputs": [],
   "source": [
    "client = OpenAI()\n",
    "\n",
    "api_key = os.getenv('OPENAI_API_KEY')\n",
    "\n",
    "openai.api_key = api_key\n",
    "\n",
    "completion = client.chat.completions.create(\n",
    "  model=\"gpt-3.5-turbo\",\n",
    "  messages=[\n",
    "    {\"role\": \"system\", \"content\": \"You will be provided with a context describing a scene, and your task is to give the sound suggestions that collectively form the audio landscape of the described scene\"},\n",
    "    {\"role\": \"user\", \"content\": f\"What do I hear in the following video description, give me a list: {frame_context[0]}\"}\n",
    "  ]\n",
    ")\n",
    "\n",
    "print(completion.choices[0].message)"
   ]
  }
 ],
 "metadata": {
  "kernelspec": {
   "display_name": "base",
   "language": "python",
   "name": "python3"
  },
  "language_info": {
   "codemirror_mode": {
    "name": "ipython",
    "version": 3
   },
   "file_extension": ".py",
   "mimetype": "text/x-python",
   "name": "python",
   "nbconvert_exporter": "python",
   "pygments_lexer": "ipython3",
   "version": "3.9.12"
  },
  "orig_nbformat": 4
 },
 "nbformat": 4,
 "nbformat_minor": 2
}
